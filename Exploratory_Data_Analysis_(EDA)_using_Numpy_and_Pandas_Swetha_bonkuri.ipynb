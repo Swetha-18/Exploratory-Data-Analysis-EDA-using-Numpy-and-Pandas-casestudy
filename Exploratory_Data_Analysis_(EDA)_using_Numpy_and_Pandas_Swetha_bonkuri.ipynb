{
  "nbformat": 4,
  "nbformat_minor": 0,
  "metadata": {
    "colab": {
      "provenance": [],
      "authorship_tag": "ABX9TyNy94yaKvfI6Oy+xz/8GbQP",
      "include_colab_link": true
    },
    "kernelspec": {
      "name": "python3",
      "display_name": "Python 3"
    },
    "language_info": {
      "name": "python"
    }
  },
  "cells": [
    {
      "cell_type": "markdown",
      "metadata": {
        "id": "view-in-github",
        "colab_type": "text"
      },
      "source": [
        "<a href=\"https://colab.research.google.com/github/Swetha-18/Exploratory-Data-Analysis-EDA-using-Numpy-and-Pandas-casestudy/blob/main/Exploratory_Data_Analysis_(EDA)_using_Numpy_and_Pandas_Swetha_bonkuri.ipynb\" target=\"_parent\"><img src=\"https://colab.research.google.com/assets/colab-badge.svg\" alt=\"Open In Colab\"/></a>"
      ]
    },
    {
      "cell_type": "code",
      "execution_count": null,
      "metadata": {
        "id": "8oMw_oS_bvvL"
      },
      "outputs": [],
      "source": [
        "# 1. Loading the Dataset:\n",
        "# Step 1: Import necessary libraries\n",
        "import numpy as np\n",
        "import pandas as pd"
      ]
    },
    {
      "cell_type": "code",
      "source": [
        "# Step 2: Load the dataset from a CSV file.\n",
        "df_ecommerce_data = pd.read_csv(\"/content/ecommerce.csv\")"
      ],
      "metadata": {
        "id": "Gq3FJGfWb7XR"
      },
      "execution_count": null,
      "outputs": []
    },
    {
      "cell_type": "code",
      "source": [
        "# Step 3: Explore the dataset\n",
        "# Display the first few rows of the dataset\n",
        "df_ecommerce_data"
      ],
      "metadata": {
        "colab": {
          "base_uri": "https://localhost:8080/",
          "height": 423
        },
        "id": "OFHLsCIqcMKM",
        "outputId": "bec025fd-f73d-46de-ba1c-2e343df8d16f"
      },
      "execution_count": null,
      "outputs": [
        {
          "output_type": "execute_result",
          "data": {
            "text/plain": [
              "     Order_ID  Customer_ID    Product     Category    Price  Quantity  \\\n",
              "0         1.0         47.0  Product D      Kitchen      NaN      64.0   \n",
              "1         NaN          NaN  Product A     Clothing  4477.63      93.0   \n",
              "2         3.0         31.0  Product E   Automobile  5891.07      99.0   \n",
              "3         4.0         40.0  Product H     Clothing  2765.73      83.0   \n",
              "4         5.0         17.0  Product B   Automobile  4594.39      17.0   \n",
              "..        ...          ...        ...          ...      ...       ...   \n",
              "995     996.0         18.0  Product F      Kitchen  4288.75      36.0   \n",
              "996       NaN          9.0  Product B  Electronics  2240.62      67.0   \n",
              "997     998.0         48.0  Product G  Accessories  4649.53       1.0   \n",
              "998       NaN         50.0  Product B      Kitchen  9547.98      56.0   \n",
              "999    1000.0         28.0  Product D      Kitchen      NaN     100.0   \n",
              "\n",
              "     Order_Date   Country  \n",
              "0      7/1/2021     China  \n",
              "1     3/21/2021  Pakistan  \n",
              "2     3/29/2022    Brazil  \n",
              "3     11/7/2022     China  \n",
              "4    12/29/2021  Colombia  \n",
              "..          ...       ...  \n",
              "995   3/17/2022     China  \n",
              "996   3/19/2020  Colombia  \n",
              "997   9/18/2022       NaN  \n",
              "998   12/5/2020  Pakistan  \n",
              "999    8/2/2021  Honduras  \n",
              "\n",
              "[1000 rows x 8 columns]"
            ],
            "text/html": [
              "\n",
              "  <div id=\"df-5c046ce5-089a-4439-b694-a090d8239438\" class=\"colab-df-container\">\n",
              "    <div>\n",
              "<style scoped>\n",
              "    .dataframe tbody tr th:only-of-type {\n",
              "        vertical-align: middle;\n",
              "    }\n",
              "\n",
              "    .dataframe tbody tr th {\n",
              "        vertical-align: top;\n",
              "    }\n",
              "\n",
              "    .dataframe thead th {\n",
              "        text-align: right;\n",
              "    }\n",
              "</style>\n",
              "<table border=\"1\" class=\"dataframe\">\n",
              "  <thead>\n",
              "    <tr style=\"text-align: right;\">\n",
              "      <th></th>\n",
              "      <th>Order_ID</th>\n",
              "      <th>Customer_ID</th>\n",
              "      <th>Product</th>\n",
              "      <th>Category</th>\n",
              "      <th>Price</th>\n",
              "      <th>Quantity</th>\n",
              "      <th>Order_Date</th>\n",
              "      <th>Country</th>\n",
              "    </tr>\n",
              "  </thead>\n",
              "  <tbody>\n",
              "    <tr>\n",
              "      <th>0</th>\n",
              "      <td>1.0</td>\n",
              "      <td>47.0</td>\n",
              "      <td>Product D</td>\n",
              "      <td>Kitchen</td>\n",
              "      <td>NaN</td>\n",
              "      <td>64.0</td>\n",
              "      <td>7/1/2021</td>\n",
              "      <td>China</td>\n",
              "    </tr>\n",
              "    <tr>\n",
              "      <th>1</th>\n",
              "      <td>NaN</td>\n",
              "      <td>NaN</td>\n",
              "      <td>Product A</td>\n",
              "      <td>Clothing</td>\n",
              "      <td>4477.63</td>\n",
              "      <td>93.0</td>\n",
              "      <td>3/21/2021</td>\n",
              "      <td>Pakistan</td>\n",
              "    </tr>\n",
              "    <tr>\n",
              "      <th>2</th>\n",
              "      <td>3.0</td>\n",
              "      <td>31.0</td>\n",
              "      <td>Product E</td>\n",
              "      <td>Automobile</td>\n",
              "      <td>5891.07</td>\n",
              "      <td>99.0</td>\n",
              "      <td>3/29/2022</td>\n",
              "      <td>Brazil</td>\n",
              "    </tr>\n",
              "    <tr>\n",
              "      <th>3</th>\n",
              "      <td>4.0</td>\n",
              "      <td>40.0</td>\n",
              "      <td>Product H</td>\n",
              "      <td>Clothing</td>\n",
              "      <td>2765.73</td>\n",
              "      <td>83.0</td>\n",
              "      <td>11/7/2022</td>\n",
              "      <td>China</td>\n",
              "    </tr>\n",
              "    <tr>\n",
              "      <th>4</th>\n",
              "      <td>5.0</td>\n",
              "      <td>17.0</td>\n",
              "      <td>Product B</td>\n",
              "      <td>Automobile</td>\n",
              "      <td>4594.39</td>\n",
              "      <td>17.0</td>\n",
              "      <td>12/29/2021</td>\n",
              "      <td>Colombia</td>\n",
              "    </tr>\n",
              "    <tr>\n",
              "      <th>...</th>\n",
              "      <td>...</td>\n",
              "      <td>...</td>\n",
              "      <td>...</td>\n",
              "      <td>...</td>\n",
              "      <td>...</td>\n",
              "      <td>...</td>\n",
              "      <td>...</td>\n",
              "      <td>...</td>\n",
              "    </tr>\n",
              "    <tr>\n",
              "      <th>995</th>\n",
              "      <td>996.0</td>\n",
              "      <td>18.0</td>\n",
              "      <td>Product F</td>\n",
              "      <td>Kitchen</td>\n",
              "      <td>4288.75</td>\n",
              "      <td>36.0</td>\n",
              "      <td>3/17/2022</td>\n",
              "      <td>China</td>\n",
              "    </tr>\n",
              "    <tr>\n",
              "      <th>996</th>\n",
              "      <td>NaN</td>\n",
              "      <td>9.0</td>\n",
              "      <td>Product B</td>\n",
              "      <td>Electronics</td>\n",
              "      <td>2240.62</td>\n",
              "      <td>67.0</td>\n",
              "      <td>3/19/2020</td>\n",
              "      <td>Colombia</td>\n",
              "    </tr>\n",
              "    <tr>\n",
              "      <th>997</th>\n",
              "      <td>998.0</td>\n",
              "      <td>48.0</td>\n",
              "      <td>Product G</td>\n",
              "      <td>Accessories</td>\n",
              "      <td>4649.53</td>\n",
              "      <td>1.0</td>\n",
              "      <td>9/18/2022</td>\n",
              "      <td>NaN</td>\n",
              "    </tr>\n",
              "    <tr>\n",
              "      <th>998</th>\n",
              "      <td>NaN</td>\n",
              "      <td>50.0</td>\n",
              "      <td>Product B</td>\n",
              "      <td>Kitchen</td>\n",
              "      <td>9547.98</td>\n",
              "      <td>56.0</td>\n",
              "      <td>12/5/2020</td>\n",
              "      <td>Pakistan</td>\n",
              "    </tr>\n",
              "    <tr>\n",
              "      <th>999</th>\n",
              "      <td>1000.0</td>\n",
              "      <td>28.0</td>\n",
              "      <td>Product D</td>\n",
              "      <td>Kitchen</td>\n",
              "      <td>NaN</td>\n",
              "      <td>100.0</td>\n",
              "      <td>8/2/2021</td>\n",
              "      <td>Honduras</td>\n",
              "    </tr>\n",
              "  </tbody>\n",
              "</table>\n",
              "<p>1000 rows × 8 columns</p>\n",
              "</div>\n",
              "    <div class=\"colab-df-buttons\">\n",
              "\n",
              "  <div class=\"colab-df-container\">\n",
              "    <button class=\"colab-df-convert\" onclick=\"convertToInteractive('df-5c046ce5-089a-4439-b694-a090d8239438')\"\n",
              "            title=\"Convert this dataframe to an interactive table.\"\n",
              "            style=\"display:none;\">\n",
              "\n",
              "  <svg xmlns=\"http://www.w3.org/2000/svg\" height=\"24px\" viewBox=\"0 -960 960 960\">\n",
              "    <path d=\"M120-120v-720h720v720H120Zm60-500h600v-160H180v160Zm220 220h160v-160H400v160Zm0 220h160v-160H400v160ZM180-400h160v-160H180v160Zm440 0h160v-160H620v160ZM180-180h160v-160H180v160Zm440 0h160v-160H620v160Z\"/>\n",
              "  </svg>\n",
              "    </button>\n",
              "\n",
              "  <style>\n",
              "    .colab-df-container {\n",
              "      display:flex;\n",
              "      gap: 12px;\n",
              "    }\n",
              "\n",
              "    .colab-df-convert {\n",
              "      background-color: #E8F0FE;\n",
              "      border: none;\n",
              "      border-radius: 50%;\n",
              "      cursor: pointer;\n",
              "      display: none;\n",
              "      fill: #1967D2;\n",
              "      height: 32px;\n",
              "      padding: 0 0 0 0;\n",
              "      width: 32px;\n",
              "    }\n",
              "\n",
              "    .colab-df-convert:hover {\n",
              "      background-color: #E2EBFA;\n",
              "      box-shadow: 0px 1px 2px rgba(60, 64, 67, 0.3), 0px 1px 3px 1px rgba(60, 64, 67, 0.15);\n",
              "      fill: #174EA6;\n",
              "    }\n",
              "\n",
              "    .colab-df-buttons div {\n",
              "      margin-bottom: 4px;\n",
              "    }\n",
              "\n",
              "    [theme=dark] .colab-df-convert {\n",
              "      background-color: #3B4455;\n",
              "      fill: #D2E3FC;\n",
              "    }\n",
              "\n",
              "    [theme=dark] .colab-df-convert:hover {\n",
              "      background-color: #434B5C;\n",
              "      box-shadow: 0px 1px 3px 1px rgba(0, 0, 0, 0.15);\n",
              "      filter: drop-shadow(0px 1px 2px rgba(0, 0, 0, 0.3));\n",
              "      fill: #FFFFFF;\n",
              "    }\n",
              "  </style>\n",
              "\n",
              "    <script>\n",
              "      const buttonEl =\n",
              "        document.querySelector('#df-5c046ce5-089a-4439-b694-a090d8239438 button.colab-df-convert');\n",
              "      buttonEl.style.display =\n",
              "        google.colab.kernel.accessAllowed ? 'block' : 'none';\n",
              "\n",
              "      async function convertToInteractive(key) {\n",
              "        const element = document.querySelector('#df-5c046ce5-089a-4439-b694-a090d8239438');\n",
              "        const dataTable =\n",
              "          await google.colab.kernel.invokeFunction('convertToInteractive',\n",
              "                                                    [key], {});\n",
              "        if (!dataTable) return;\n",
              "\n",
              "        const docLinkHtml = 'Like what you see? Visit the ' +\n",
              "          '<a target=\"_blank\" href=https://colab.research.google.com/notebooks/data_table.ipynb>data table notebook</a>'\n",
              "          + ' to learn more about interactive tables.';\n",
              "        element.innerHTML = '';\n",
              "        dataTable['output_type'] = 'display_data';\n",
              "        await google.colab.output.renderOutput(dataTable, element);\n",
              "        const docLink = document.createElement('div');\n",
              "        docLink.innerHTML = docLinkHtml;\n",
              "        element.appendChild(docLink);\n",
              "      }\n",
              "    </script>\n",
              "  </div>\n",
              "\n",
              "\n",
              "<div id=\"df-aa924fa4-250c-486c-bb1c-4ef99043bedb\">\n",
              "  <button class=\"colab-df-quickchart\" onclick=\"quickchart('df-aa924fa4-250c-486c-bb1c-4ef99043bedb')\"\n",
              "            title=\"Suggest charts.\"\n",
              "            style=\"display:none;\">\n",
              "\n",
              "<svg xmlns=\"http://www.w3.org/2000/svg\" height=\"24px\"viewBox=\"0 0 24 24\"\n",
              "     width=\"24px\">\n",
              "    <g>\n",
              "        <path d=\"M19 3H5c-1.1 0-2 .9-2 2v14c0 1.1.9 2 2 2h14c1.1 0 2-.9 2-2V5c0-1.1-.9-2-2-2zM9 17H7v-7h2v7zm4 0h-2V7h2v10zm4 0h-2v-4h2v4z\"/>\n",
              "    </g>\n",
              "</svg>\n",
              "  </button>\n",
              "\n",
              "<style>\n",
              "  .colab-df-quickchart {\n",
              "      --bg-color: #E8F0FE;\n",
              "      --fill-color: #1967D2;\n",
              "      --hover-bg-color: #E2EBFA;\n",
              "      --hover-fill-color: #174EA6;\n",
              "      --disabled-fill-color: #AAA;\n",
              "      --disabled-bg-color: #DDD;\n",
              "  }\n",
              "\n",
              "  [theme=dark] .colab-df-quickchart {\n",
              "      --bg-color: #3B4455;\n",
              "      --fill-color: #D2E3FC;\n",
              "      --hover-bg-color: #434B5C;\n",
              "      --hover-fill-color: #FFFFFF;\n",
              "      --disabled-bg-color: #3B4455;\n",
              "      --disabled-fill-color: #666;\n",
              "  }\n",
              "\n",
              "  .colab-df-quickchart {\n",
              "    background-color: var(--bg-color);\n",
              "    border: none;\n",
              "    border-radius: 50%;\n",
              "    cursor: pointer;\n",
              "    display: none;\n",
              "    fill: var(--fill-color);\n",
              "    height: 32px;\n",
              "    padding: 0;\n",
              "    width: 32px;\n",
              "  }\n",
              "\n",
              "  .colab-df-quickchart:hover {\n",
              "    background-color: var(--hover-bg-color);\n",
              "    box-shadow: 0 1px 2px rgba(60, 64, 67, 0.3), 0 1px 3px 1px rgba(60, 64, 67, 0.15);\n",
              "    fill: var(--button-hover-fill-color);\n",
              "  }\n",
              "\n",
              "  .colab-df-quickchart-complete:disabled,\n",
              "  .colab-df-quickchart-complete:disabled:hover {\n",
              "    background-color: var(--disabled-bg-color);\n",
              "    fill: var(--disabled-fill-color);\n",
              "    box-shadow: none;\n",
              "  }\n",
              "\n",
              "  .colab-df-spinner {\n",
              "    border: 2px solid var(--fill-color);\n",
              "    border-color: transparent;\n",
              "    border-bottom-color: var(--fill-color);\n",
              "    animation:\n",
              "      spin 1s steps(1) infinite;\n",
              "  }\n",
              "\n",
              "  @keyframes spin {\n",
              "    0% {\n",
              "      border-color: transparent;\n",
              "      border-bottom-color: var(--fill-color);\n",
              "      border-left-color: var(--fill-color);\n",
              "    }\n",
              "    20% {\n",
              "      border-color: transparent;\n",
              "      border-left-color: var(--fill-color);\n",
              "      border-top-color: var(--fill-color);\n",
              "    }\n",
              "    30% {\n",
              "      border-color: transparent;\n",
              "      border-left-color: var(--fill-color);\n",
              "      border-top-color: var(--fill-color);\n",
              "      border-right-color: var(--fill-color);\n",
              "    }\n",
              "    40% {\n",
              "      border-color: transparent;\n",
              "      border-right-color: var(--fill-color);\n",
              "      border-top-color: var(--fill-color);\n",
              "    }\n",
              "    60% {\n",
              "      border-color: transparent;\n",
              "      border-right-color: var(--fill-color);\n",
              "    }\n",
              "    80% {\n",
              "      border-color: transparent;\n",
              "      border-right-color: var(--fill-color);\n",
              "      border-bottom-color: var(--fill-color);\n",
              "    }\n",
              "    90% {\n",
              "      border-color: transparent;\n",
              "      border-bottom-color: var(--fill-color);\n",
              "    }\n",
              "  }\n",
              "</style>\n",
              "\n",
              "  <script>\n",
              "    async function quickchart(key) {\n",
              "      const quickchartButtonEl =\n",
              "        document.querySelector('#' + key + ' button');\n",
              "      quickchartButtonEl.disabled = true;  // To prevent multiple clicks.\n",
              "      quickchartButtonEl.classList.add('colab-df-spinner');\n",
              "      try {\n",
              "        const charts = await google.colab.kernel.invokeFunction(\n",
              "            'suggestCharts', [key], {});\n",
              "      } catch (error) {\n",
              "        console.error('Error during call to suggestCharts:', error);\n",
              "      }\n",
              "      quickchartButtonEl.classList.remove('colab-df-spinner');\n",
              "      quickchartButtonEl.classList.add('colab-df-quickchart-complete');\n",
              "    }\n",
              "    (() => {\n",
              "      let quickchartButtonEl =\n",
              "        document.querySelector('#df-aa924fa4-250c-486c-bb1c-4ef99043bedb button');\n",
              "      quickchartButtonEl.style.display =\n",
              "        google.colab.kernel.accessAllowed ? 'block' : 'none';\n",
              "    })();\n",
              "  </script>\n",
              "</div>\n",
              "    </div>\n",
              "  </div>\n"
            ]
          },
          "metadata": {},
          "execution_count": 7
        }
      ]
    },
    {
      "cell_type": "code",
      "source": [
        "# **2. Data Cleaning:**\n",
        "df_ecommerce_data.head()"
      ],
      "metadata": {
        "colab": {
          "base_uri": "https://localhost:8080/",
          "height": 206
        },
        "id": "cELdfNTFcQ0p",
        "outputId": "a0e3cf65-ecac-4766-844d-2d29f8f15903"
      },
      "execution_count": null,
      "outputs": [
        {
          "output_type": "execute_result",
          "data": {
            "text/plain": [
              "   Order_ID  Customer_ID    Product    Category    Price  Quantity  \\\n",
              "0       1.0         47.0  Product D     Kitchen      NaN      64.0   \n",
              "1       NaN          NaN  Product A    Clothing  4477.63      93.0   \n",
              "2       3.0         31.0  Product E  Automobile  5891.07      99.0   \n",
              "3       4.0         40.0  Product H    Clothing  2765.73      83.0   \n",
              "4       5.0         17.0  Product B  Automobile  4594.39      17.0   \n",
              "\n",
              "   Order_Date   Country  \n",
              "0    7/1/2021     China  \n",
              "1   3/21/2021  Pakistan  \n",
              "2   3/29/2022    Brazil  \n",
              "3   11/7/2022     China  \n",
              "4  12/29/2021  Colombia  "
            ],
            "text/html": [
              "\n",
              "  <div id=\"df-2aaa6e12-ae44-42d1-9e8c-38f578e0558a\" class=\"colab-df-container\">\n",
              "    <div>\n",
              "<style scoped>\n",
              "    .dataframe tbody tr th:only-of-type {\n",
              "        vertical-align: middle;\n",
              "    }\n",
              "\n",
              "    .dataframe tbody tr th {\n",
              "        vertical-align: top;\n",
              "    }\n",
              "\n",
              "    .dataframe thead th {\n",
              "        text-align: right;\n",
              "    }\n",
              "</style>\n",
              "<table border=\"1\" class=\"dataframe\">\n",
              "  <thead>\n",
              "    <tr style=\"text-align: right;\">\n",
              "      <th></th>\n",
              "      <th>Order_ID</th>\n",
              "      <th>Customer_ID</th>\n",
              "      <th>Product</th>\n",
              "      <th>Category</th>\n",
              "      <th>Price</th>\n",
              "      <th>Quantity</th>\n",
              "      <th>Order_Date</th>\n",
              "      <th>Country</th>\n",
              "    </tr>\n",
              "  </thead>\n",
              "  <tbody>\n",
              "    <tr>\n",
              "      <th>0</th>\n",
              "      <td>1.0</td>\n",
              "      <td>47.0</td>\n",
              "      <td>Product D</td>\n",
              "      <td>Kitchen</td>\n",
              "      <td>NaN</td>\n",
              "      <td>64.0</td>\n",
              "      <td>7/1/2021</td>\n",
              "      <td>China</td>\n",
              "    </tr>\n",
              "    <tr>\n",
              "      <th>1</th>\n",
              "      <td>NaN</td>\n",
              "      <td>NaN</td>\n",
              "      <td>Product A</td>\n",
              "      <td>Clothing</td>\n",
              "      <td>4477.63</td>\n",
              "      <td>93.0</td>\n",
              "      <td>3/21/2021</td>\n",
              "      <td>Pakistan</td>\n",
              "    </tr>\n",
              "    <tr>\n",
              "      <th>2</th>\n",
              "      <td>3.0</td>\n",
              "      <td>31.0</td>\n",
              "      <td>Product E</td>\n",
              "      <td>Automobile</td>\n",
              "      <td>5891.07</td>\n",
              "      <td>99.0</td>\n",
              "      <td>3/29/2022</td>\n",
              "      <td>Brazil</td>\n",
              "    </tr>\n",
              "    <tr>\n",
              "      <th>3</th>\n",
              "      <td>4.0</td>\n",
              "      <td>40.0</td>\n",
              "      <td>Product H</td>\n",
              "      <td>Clothing</td>\n",
              "      <td>2765.73</td>\n",
              "      <td>83.0</td>\n",
              "      <td>11/7/2022</td>\n",
              "      <td>China</td>\n",
              "    </tr>\n",
              "    <tr>\n",
              "      <th>4</th>\n",
              "      <td>5.0</td>\n",
              "      <td>17.0</td>\n",
              "      <td>Product B</td>\n",
              "      <td>Automobile</td>\n",
              "      <td>4594.39</td>\n",
              "      <td>17.0</td>\n",
              "      <td>12/29/2021</td>\n",
              "      <td>Colombia</td>\n",
              "    </tr>\n",
              "  </tbody>\n",
              "</table>\n",
              "</div>\n",
              "    <div class=\"colab-df-buttons\">\n",
              "\n",
              "  <div class=\"colab-df-container\">\n",
              "    <button class=\"colab-df-convert\" onclick=\"convertToInteractive('df-2aaa6e12-ae44-42d1-9e8c-38f578e0558a')\"\n",
              "            title=\"Convert this dataframe to an interactive table.\"\n",
              "            style=\"display:none;\">\n",
              "\n",
              "  <svg xmlns=\"http://www.w3.org/2000/svg\" height=\"24px\" viewBox=\"0 -960 960 960\">\n",
              "    <path d=\"M120-120v-720h720v720H120Zm60-500h600v-160H180v160Zm220 220h160v-160H400v160Zm0 220h160v-160H400v160ZM180-400h160v-160H180v160Zm440 0h160v-160H620v160ZM180-180h160v-160H180v160Zm440 0h160v-160H620v160Z\"/>\n",
              "  </svg>\n",
              "    </button>\n",
              "\n",
              "  <style>\n",
              "    .colab-df-container {\n",
              "      display:flex;\n",
              "      gap: 12px;\n",
              "    }\n",
              "\n",
              "    .colab-df-convert {\n",
              "      background-color: #E8F0FE;\n",
              "      border: none;\n",
              "      border-radius: 50%;\n",
              "      cursor: pointer;\n",
              "      display: none;\n",
              "      fill: #1967D2;\n",
              "      height: 32px;\n",
              "      padding: 0 0 0 0;\n",
              "      width: 32px;\n",
              "    }\n",
              "\n",
              "    .colab-df-convert:hover {\n",
              "      background-color: #E2EBFA;\n",
              "      box-shadow: 0px 1px 2px rgba(60, 64, 67, 0.3), 0px 1px 3px 1px rgba(60, 64, 67, 0.15);\n",
              "      fill: #174EA6;\n",
              "    }\n",
              "\n",
              "    .colab-df-buttons div {\n",
              "      margin-bottom: 4px;\n",
              "    }\n",
              "\n",
              "    [theme=dark] .colab-df-convert {\n",
              "      background-color: #3B4455;\n",
              "      fill: #D2E3FC;\n",
              "    }\n",
              "\n",
              "    [theme=dark] .colab-df-convert:hover {\n",
              "      background-color: #434B5C;\n",
              "      box-shadow: 0px 1px 3px 1px rgba(0, 0, 0, 0.15);\n",
              "      filter: drop-shadow(0px 1px 2px rgba(0, 0, 0, 0.3));\n",
              "      fill: #FFFFFF;\n",
              "    }\n",
              "  </style>\n",
              "\n",
              "    <script>\n",
              "      const buttonEl =\n",
              "        document.querySelector('#df-2aaa6e12-ae44-42d1-9e8c-38f578e0558a button.colab-df-convert');\n",
              "      buttonEl.style.display =\n",
              "        google.colab.kernel.accessAllowed ? 'block' : 'none';\n",
              "\n",
              "      async function convertToInteractive(key) {\n",
              "        const element = document.querySelector('#df-2aaa6e12-ae44-42d1-9e8c-38f578e0558a');\n",
              "        const dataTable =\n",
              "          await google.colab.kernel.invokeFunction('convertToInteractive',\n",
              "                                                    [key], {});\n",
              "        if (!dataTable) return;\n",
              "\n",
              "        const docLinkHtml = 'Like what you see? Visit the ' +\n",
              "          '<a target=\"_blank\" href=https://colab.research.google.com/notebooks/data_table.ipynb>data table notebook</a>'\n",
              "          + ' to learn more about interactive tables.';\n",
              "        element.innerHTML = '';\n",
              "        dataTable['output_type'] = 'display_data';\n",
              "        await google.colab.output.renderOutput(dataTable, element);\n",
              "        const docLink = document.createElement('div');\n",
              "        docLink.innerHTML = docLinkHtml;\n",
              "        element.appendChild(docLink);\n",
              "      }\n",
              "    </script>\n",
              "  </div>\n",
              "\n",
              "\n",
              "<div id=\"df-04dd307e-e390-4379-9c3a-d56700b4ef0d\">\n",
              "  <button class=\"colab-df-quickchart\" onclick=\"quickchart('df-04dd307e-e390-4379-9c3a-d56700b4ef0d')\"\n",
              "            title=\"Suggest charts.\"\n",
              "            style=\"display:none;\">\n",
              "\n",
              "<svg xmlns=\"http://www.w3.org/2000/svg\" height=\"24px\"viewBox=\"0 0 24 24\"\n",
              "     width=\"24px\">\n",
              "    <g>\n",
              "        <path d=\"M19 3H5c-1.1 0-2 .9-2 2v14c0 1.1.9 2 2 2h14c1.1 0 2-.9 2-2V5c0-1.1-.9-2-2-2zM9 17H7v-7h2v7zm4 0h-2V7h2v10zm4 0h-2v-4h2v4z\"/>\n",
              "    </g>\n",
              "</svg>\n",
              "  </button>\n",
              "\n",
              "<style>\n",
              "  .colab-df-quickchart {\n",
              "      --bg-color: #E8F0FE;\n",
              "      --fill-color: #1967D2;\n",
              "      --hover-bg-color: #E2EBFA;\n",
              "      --hover-fill-color: #174EA6;\n",
              "      --disabled-fill-color: #AAA;\n",
              "      --disabled-bg-color: #DDD;\n",
              "  }\n",
              "\n",
              "  [theme=dark] .colab-df-quickchart {\n",
              "      --bg-color: #3B4455;\n",
              "      --fill-color: #D2E3FC;\n",
              "      --hover-bg-color: #434B5C;\n",
              "      --hover-fill-color: #FFFFFF;\n",
              "      --disabled-bg-color: #3B4455;\n",
              "      --disabled-fill-color: #666;\n",
              "  }\n",
              "\n",
              "  .colab-df-quickchart {\n",
              "    background-color: var(--bg-color);\n",
              "    border: none;\n",
              "    border-radius: 50%;\n",
              "    cursor: pointer;\n",
              "    display: none;\n",
              "    fill: var(--fill-color);\n",
              "    height: 32px;\n",
              "    padding: 0;\n",
              "    width: 32px;\n",
              "  }\n",
              "\n",
              "  .colab-df-quickchart:hover {\n",
              "    background-color: var(--hover-bg-color);\n",
              "    box-shadow: 0 1px 2px rgba(60, 64, 67, 0.3), 0 1px 3px 1px rgba(60, 64, 67, 0.15);\n",
              "    fill: var(--button-hover-fill-color);\n",
              "  }\n",
              "\n",
              "  .colab-df-quickchart-complete:disabled,\n",
              "  .colab-df-quickchart-complete:disabled:hover {\n",
              "    background-color: var(--disabled-bg-color);\n",
              "    fill: var(--disabled-fill-color);\n",
              "    box-shadow: none;\n",
              "  }\n",
              "\n",
              "  .colab-df-spinner {\n",
              "    border: 2px solid var(--fill-color);\n",
              "    border-color: transparent;\n",
              "    border-bottom-color: var(--fill-color);\n",
              "    animation:\n",
              "      spin 1s steps(1) infinite;\n",
              "  }\n",
              "\n",
              "  @keyframes spin {\n",
              "    0% {\n",
              "      border-color: transparent;\n",
              "      border-bottom-color: var(--fill-color);\n",
              "      border-left-color: var(--fill-color);\n",
              "    }\n",
              "    20% {\n",
              "      border-color: transparent;\n",
              "      border-left-color: var(--fill-color);\n",
              "      border-top-color: var(--fill-color);\n",
              "    }\n",
              "    30% {\n",
              "      border-color: transparent;\n",
              "      border-left-color: var(--fill-color);\n",
              "      border-top-color: var(--fill-color);\n",
              "      border-right-color: var(--fill-color);\n",
              "    }\n",
              "    40% {\n",
              "      border-color: transparent;\n",
              "      border-right-color: var(--fill-color);\n",
              "      border-top-color: var(--fill-color);\n",
              "    }\n",
              "    60% {\n",
              "      border-color: transparent;\n",
              "      border-right-color: var(--fill-color);\n",
              "    }\n",
              "    80% {\n",
              "      border-color: transparent;\n",
              "      border-right-color: var(--fill-color);\n",
              "      border-bottom-color: var(--fill-color);\n",
              "    }\n",
              "    90% {\n",
              "      border-color: transparent;\n",
              "      border-bottom-color: var(--fill-color);\n",
              "    }\n",
              "  }\n",
              "</style>\n",
              "\n",
              "  <script>\n",
              "    async function quickchart(key) {\n",
              "      const quickchartButtonEl =\n",
              "        document.querySelector('#' + key + ' button');\n",
              "      quickchartButtonEl.disabled = true;  // To prevent multiple clicks.\n",
              "      quickchartButtonEl.classList.add('colab-df-spinner');\n",
              "      try {\n",
              "        const charts = await google.colab.kernel.invokeFunction(\n",
              "            'suggestCharts', [key], {});\n",
              "      } catch (error) {\n",
              "        console.error('Error during call to suggestCharts:', error);\n",
              "      }\n",
              "      quickchartButtonEl.classList.remove('colab-df-spinner');\n",
              "      quickchartButtonEl.classList.add('colab-df-quickchart-complete');\n",
              "    }\n",
              "    (() => {\n",
              "      let quickchartButtonEl =\n",
              "        document.querySelector('#df-04dd307e-e390-4379-9c3a-d56700b4ef0d button');\n",
              "      quickchartButtonEl.style.display =\n",
              "        google.colab.kernel.accessAllowed ? 'block' : 'none';\n",
              "    })();\n",
              "  </script>\n",
              "</div>\n",
              "    </div>\n",
              "  </div>\n"
            ]
          },
          "metadata": {},
          "execution_count": 8
        }
      ]
    },
    {
      "cell_type": "code",
      "source": [
        "# Get basic information about the dataset, including data types and missing values\n",
        "print(df_ecommerce_data.info())"
      ],
      "metadata": {
        "colab": {
          "base_uri": "https://localhost:8080/"
        },
        "id": "xh5Iy1NMcmEq",
        "outputId": "52b163b9-a7bf-4d40-e2ee-a27c5fe3a0b3"
      },
      "execution_count": null,
      "outputs": [
        {
          "output_type": "stream",
          "name": "stdout",
          "text": [
            "<class 'pandas.core.frame.DataFrame'>\n",
            "RangeIndex: 1000 entries, 0 to 999\n",
            "Data columns (total 8 columns):\n",
            " #   Column       Non-Null Count  Dtype  \n",
            "---  ------       --------------  -----  \n",
            " 0   Order_ID     882 non-null    float64\n",
            " 1   Customer_ID  947 non-null    float64\n",
            " 2   Product      1000 non-null   object \n",
            " 3   Category     1000 non-null   object \n",
            " 4   Price        875 non-null    float64\n",
            " 5   Quantity     962 non-null    float64\n",
            " 6   Order_Date   1000 non-null   object \n",
            " 7   Country      910 non-null    object \n",
            "dtypes: float64(4), object(4)\n",
            "memory usage: 62.6+ KB\n",
            "None\n"
          ]
        }
      ]
    },
    {
      "cell_type": "code",
      "source": [
        "# Check for missing values,\n",
        "df_ecommerce_data.isnull().sum()"
      ],
      "metadata": {
        "colab": {
          "base_uri": "https://localhost:8080/"
        },
        "id": "65g0ABJnc9Wg",
        "outputId": "bdbeefba-89fb-40b7-948e-c44700dfbf16"
      },
      "execution_count": null,
      "outputs": [
        {
          "output_type": "execute_result",
          "data": {
            "text/plain": [
              "Order_ID       118\n",
              "Customer_ID     53\n",
              "Product          0\n",
              "Category         0\n",
              "Price          125\n",
              "Quantity        38\n",
              "Order_Date       0\n",
              "Country         90\n",
              "dtype: int64"
            ]
          },
          "metadata": {},
          "execution_count": 10
        }
      ]
    },
    {
      "cell_type": "code",
      "source": [
        "# Check for duplicated rows\n",
        "duplicated_rows = [df_ecommerce_data.duplicated()]\n",
        "duplicated_rows"
      ],
      "metadata": {
        "colab": {
          "base_uri": "https://localhost:8080/"
        },
        "id": "988xU32SdHMD",
        "outputId": "9ffcc547-ec35-4501-9f13-2d56b089c5b2"
      },
      "execution_count": null,
      "outputs": [
        {
          "output_type": "execute_result",
          "data": {
            "text/plain": [
              "[0      False\n",
              " 1      False\n",
              " 2      False\n",
              " 3      False\n",
              " 4      False\n",
              "        ...  \n",
              " 995    False\n",
              " 996    False\n",
              " 997    False\n",
              " 998    False\n",
              " 999    False\n",
              " Length: 1000, dtype: bool]"
            ]
          },
          "metadata": {},
          "execution_count": 11
        }
      ]
    },
    {
      "cell_type": "code",
      "source": [
        "# Remove duplicated rows\n",
        "df =df_ecommerce_data.drop_duplicates(inplace=True)"
      ],
      "metadata": {
        "id": "FirY2NUk6sod"
      },
      "execution_count": null,
      "outputs": []
    },
    {
      "cell_type": "code",
      "source": [
        "column_names = df_ecommerce_data.columns\n",
        "column_names"
      ],
      "metadata": {
        "colab": {
          "base_uri": "https://localhost:8080/"
        },
        "id": "iZKPnuie7ifj",
        "outputId": "756c4541-4ead-480d-cda6-d94d27a32be6"
      },
      "execution_count": null,
      "outputs": [
        {
          "output_type": "execute_result",
          "data": {
            "text/plain": [
              "Index(['Order_ID', 'Customer_ID', 'Product', 'Category', 'Price', 'Quantity',\n",
              "       'Order_Date', 'Country'],\n",
              "      dtype='object')"
            ]
          },
          "metadata": {},
          "execution_count": 13
        }
      ]
    },
    {
      "cell_type": "code",
      "source": [
        "# Check for duplicate rows\n",
        "df_ecommerce_data.duplicated().sum()"
      ],
      "metadata": {
        "colab": {
          "base_uri": "https://localhost:8080/"
        },
        "id": "IDAr-NGQ62o9",
        "outputId": "9a453f0b-4758-4b9f-99ce-18980ab63e4c"
      },
      "execution_count": null,
      "outputs": [
        {
          "output_type": "execute_result",
          "data": {
            "text/plain": [
              "0"
            ]
          },
          "metadata": {},
          "execution_count": 14
        }
      ]
    },
    {
      "cell_type": "code",
      "source": [
        "\n",
        "# Handle any issues found\n",
        "df_ecommerce_data.dropna(inplace=True)\n",
        "df_ecommerce_data.drop_duplicates(inplace=True)"
      ],
      "metadata": {
        "id": "aqe1uDj5x673"
      },
      "execution_count": null,
      "outputs": []
    },
    {
      "cell_type": "code",
      "source": [
        "# Check for inconsistent data\n",
        "df_ecommerce_data[\"Price\"].value_counts"
      ],
      "metadata": {
        "colab": {
          "base_uri": "https://localhost:8080/"
        },
        "id": "BNrfo0lh87uN",
        "outputId": "7324cc60-b65b-46f9-8071-53ad01f9514d"
      },
      "execution_count": null,
      "outputs": [
        {
          "output_type": "execute_result",
          "data": {
            "text/plain": [
              "<bound method IndexOpsMixin.value_counts of 0          NaN\n",
              "1      4477.63\n",
              "2      5891.07\n",
              "3      2765.73\n",
              "4      4594.39\n",
              "        ...   \n",
              "995    4288.75\n",
              "996    2240.62\n",
              "997    4649.53\n",
              "998    9547.98\n",
              "999        NaN\n",
              "Name: Price, Length: 1000, dtype: float64>"
            ]
          },
          "metadata": {},
          "execution_count": 15
        }
      ]
    },
    {
      "cell_type": "code",
      "source": [
        "# **3. Data Summary:**\n",
        "# Calculate and display the following summary statistics:\n",
        "# Total number of orders.\n",
        "df_ecommerce_data[\"Order_ID\"].count()"
      ],
      "metadata": {
        "colab": {
          "base_uri": "https://localhost:8080/"
        },
        "id": "JM7U2WDe7goB",
        "outputId": "77ddf50c-9488-4c89-b87d-d6ec3507387f"
      },
      "execution_count": null,
      "outputs": [
        {
          "output_type": "execute_result",
          "data": {
            "text/plain": [
              "882"
            ]
          },
          "metadata": {},
          "execution_count": 16
        }
      ]
    },
    {
      "cell_type": "code",
      "source": [
        "# Total number of customers.\n",
        "df_ecommerce_data[\"Customer_ID\"].nunique()"
      ],
      "metadata": {
        "colab": {
          "base_uri": "https://localhost:8080/"
        },
        "id": "Bwc9J3Pk_Cby",
        "outputId": "df6d4038-7cbc-43a1-cee1-9dc1a32d402f"
      },
      "execution_count": null,
      "outputs": [
        {
          "output_type": "execute_result",
          "data": {
            "text/plain": [
              "50"
            ]
          },
          "metadata": {},
          "execution_count": 17
        }
      ]
    },
    {
      "cell_type": "code",
      "source": [
        "# Total revenue generated.\n",
        "# Calculate total revenue for each order and add it as a new column\n",
        "df_ecommerce_data['Total_Revenue'] = df_ecommerce_data['Price'] * df_ecommerce_data['Quantity']\n",
        "\n",
        "# Calculate the sum of total revenue to get the total revenue generated\n",
        "total_revenue = df_ecommerce_data['Total_Revenue'].sum()\n",
        "\n",
        "print(\"Total Revenue Generated:\", total_revenue)\n"
      ],
      "metadata": {
        "colab": {
          "base_uri": "https://localhost:8080/"
        },
        "id": "FUyh4z6n_UnW",
        "outputId": "9e155b35-ea42-42f4-f308-4b0ff460f892"
      },
      "execution_count": null,
      "outputs": [
        {
          "output_type": "stream",
          "name": "stdout",
          "text": [
            "Total Revenue Generated: 212179302.9\n"
          ]
        }
      ]
    },
    {
      "cell_type": "code",
      "source": [
        "# - Average order value.\n",
        "# Calculate the total number of orders\n",
        "total_orders = df_ecommerce_data['Order_ID'].nunique()\n",
        "\n",
        "# Calculate the average order value\n",
        "average_order_value = total_revenue / total_orders\n",
        "\n",
        "print(\"Average Order Value:\", average_order_value)\n"
      ],
      "metadata": {
        "colab": {
          "base_uri": "https://localhost:8080/"
        },
        "id": "r8-hiuxr_jCa",
        "outputId": "4c0a5d2f-0550-4d53-9502-62b96a4e0912"
      },
      "execution_count": null,
      "outputs": [
        {
          "output_type": "stream",
          "name": "stdout",
          "text": [
            "Average Order Value: 240566.1030612245\n"
          ]
        }
      ]
    },
    {
      "cell_type": "code",
      "source": [
        "# **4. Category Analysis:**\n",
        "# Explore the distribution of products across different categories. Provide percentage sales of each category\n",
        "category_counts = df_ecommerce_data['Category'].value_counts()\n"
      ],
      "metadata": {
        "id": "s4f5JJJhAq_G"
      },
      "execution_count": null,
      "outputs": []
    },
    {
      "cell_type": "code",
      "source": [
        "category_counts"
      ],
      "metadata": {
        "colab": {
          "base_uri": "https://localhost:8080/"
        },
        "id": "vcPDvNETxPWi",
        "outputId": "a377e310-6e60-4868-89d7-e78a2ed5929b"
      },
      "execution_count": null,
      "outputs": [
        {
          "output_type": "execute_result",
          "data": {
            "text/plain": [
              "Clothing       218\n",
              "Kitchen        206\n",
              "Electronics    199\n",
              "Automobile     189\n",
              "Accessories    188\n",
              "Name: Category, dtype: int64"
            ]
          },
          "metadata": {},
          "execution_count": 22
        }
      ]
    },
    {
      "cell_type": "code",
      "source": [
        "category_percentage_sales = (category_counts/total_orders) * 100\n"
      ],
      "metadata": {
        "id": "C2WIXRhuxRiC"
      },
      "execution_count": null,
      "outputs": []
    },
    {
      "cell_type": "code",
      "source": [
        "#  percentage sales of each category\n",
        "print(\"Percentage sales of each category:\")\n",
        "print(category_percentage_sales)"
      ],
      "metadata": {
        "colab": {
          "base_uri": "https://localhost:8080/"
        },
        "id": "1PNmnYWhxrwZ",
        "outputId": "aecd00b1-ac55-4771-bb01-97c2bc7eff1a"
      },
      "execution_count": null,
      "outputs": [
        {
          "output_type": "stream",
          "name": "stdout",
          "text": [
            "Percentage sales of each category:\n",
            "Clothing       24.716553\n",
            "Kitchen        23.356009\n",
            "Electronics    22.562358\n",
            "Automobile     21.428571\n",
            "Accessories    21.315193\n",
            "Name: Category, dtype: float64\n"
          ]
        }
      ]
    },
    {
      "cell_type": "code",
      "source": [
        "df_ecommerce_data['Category'].value_counts(normalize=True) * 100"
      ],
      "metadata": {
        "colab": {
          "base_uri": "https://localhost:8080/"
        },
        "id": "hptc3jSjxxsd",
        "outputId": "8f578a1a-dea3-40d7-dfdc-9e2a8234d9fa"
      },
      "execution_count": null,
      "outputs": [
        {
          "output_type": "execute_result",
          "data": {
            "text/plain": [
              "Clothing       21.651090\n",
              "Kitchen        21.495327\n",
              "Electronics    19.314642\n",
              "Accessories    19.158879\n",
              "Automobile     18.380062\n",
              "Name: Category, dtype: float64"
            ]
          },
          "metadata": {},
          "execution_count": 28
        }
      ]
    },
    {
      "cell_type": "code",
      "source": [
        "# **5. Country-wise Analysis:**\n",
        "# Identify the top 5 countries with the highest number of orders. Create a bar plot to visualize this information.\n",
        "df_ecommerce_data['Country'].value_counts().head(5)"
      ],
      "metadata": {
        "colab": {
          "base_uri": "https://localhost:8080/"
        },
        "id": "lse8PlhdyK1O",
        "outputId": "06dc3e78-8d13-456e-aa55-4c5de030354a"
      },
      "execution_count": null,
      "outputs": [
        {
          "output_type": "execute_result",
          "data": {
            "text/plain": [
              "China          133\n",
              "Indonesia       71\n",
              "Russia          38\n",
              "Philippines     27\n",
              "Brazil          22\n",
              "Name: Country, dtype: int64"
            ]
          },
          "metadata": {},
          "execution_count": 32
        }
      ]
    },
    {
      "cell_type": "code",
      "source": [
        "# or\n",
        "top_countries = df_ecommerce_data['Country'].value_counts().head(5)"
      ],
      "metadata": {
        "id": "NVI9w8kN0SM_"
      },
      "execution_count": null,
      "outputs": []
    },
    {
      "cell_type": "code",
      "source": [
        "# # Create a bar plot to visualize this information\n",
        "import matplotlib.pyplot as plt\n",
        "import seaborn as sns\n",
        "plt.figure(figsize=(10, 6))\n",
        "sns.barplot(x=top_countries.index,y=top_countries.values)\n",
        "plt.xlabel(\"Country\")\n",
        "plt.ylabel(\"Number of Orders\")\n",
        "plt.title(\"Top 5 countries with Highest Number of Orders\")\n",
        "plt.xticks(rotation=45)\n",
        "plt.show()"
      ],
      "metadata": {
        "colab": {
          "base_uri": "https://localhost:8080/",
          "height": 613
        },
        "id": "pv_AiqZGypbe",
        "outputId": "26a91c01-9538-470c-9aba-9c9e6c509bba"
      },
      "execution_count": null,
      "outputs": [
        {
          "output_type": "display_data",
          "data": {
            "text/plain": [
              "<Figure size 1000x600 with 1 Axes>"
            ],
            "image/png": "[encoded data removed]"
          },
          "metadata": {}
        }
      ]
    },
    {
      "cell_type": "code",
      "source": [
        "# **6. Monthly Analysis:**\n",
        "# Show the monthly revenue over the entire dataset's time period.\n",
        "df_ecommerce_data['Order_Date']=pd.to_datetime(df_ecommerce_data['Order_Date'])\n"
      ],
      "metadata": {
        "id": "t49z37nsz8hO"
      },
      "execution_count": null,
      "outputs": []
    },
    {
      "cell_type": "code",
      "source": [
        "# # Extract the month from 'Order_Date' and calculate monthly revenue\n",
        "# Extract the month from 'Order_Date' and calculate monthly revenue\n",
        "# Calculate the total cost of each order\n",
        "df_ecommerce_data['Total'] = df_ecommerce_data['Price'] * df_ecommerce_data['Quantity']"
      ],
      "metadata": {
        "id": "9sPJPX8t1SuD"
      },
      "execution_count": null,
      "outputs": []
    },
    {
      "cell_type": "code",
      "source": [
        "monthly_revenue = df_ecommerce_data.groupby(df_ecommerce_data['Order_Date'].dt.strftime('%Y-%m'))['Total'].sum()\n"
      ],
      "metadata": {
        "id": "6Mi_PbX-2NDi"
      },
      "execution_count": null,
      "outputs": []
    },
    {
      "cell_type": "code",
      "source": [
        "# Extract the month from 'Order_Date' and calculate monthly revenue\n",
        "monthly_revenue = df_ecommerce_data.groupby(df_ecommerce_data['Order_Date'].dt.strftime('%Y-%m'))['Total'].sum()\n",
        "\n",
        "# Display the monthly revenue\n",
        "print(monthly_revenue)\n"
      ],
      "metadata": {
        "colab": {
          "base_uri": "https://localhost:8080/"
        },
        "id": "CDs5nshu2Saf",
        "outputId": "7bae9509-1fb9-4be6-f104-6dbc26c61a68"
      },
      "execution_count": null,
      "outputs": [
        {
          "output_type": "stream",
          "name": "stdout",
          "text": [
            "Order_Date\n",
            "2020-01    4312584.45\n",
            "2020-02    1975933.76\n",
            "2020-03    7415310.69\n",
            "2020-04    4257153.30\n",
            "2020-05    2211993.71\n",
            "2020-06    4350826.83\n",
            "2020-07    4247457.30\n",
            "2020-08    5425036.50\n",
            "2020-09    3422201.44\n",
            "2020-10    4994923.54\n",
            "2020-11    3811368.42\n",
            "2020-12    4877434.67\n",
            "2021-01    6003994.91\n",
            "2021-02    3625356.78\n",
            "2021-03    3366710.61\n",
            "2021-04    1622368.03\n",
            "2021-05    7387847.34\n",
            "2021-06    4540865.38\n",
            "2021-07    4191597.96\n",
            "2021-08    3432769.26\n",
            "2021-09    1948403.69\n",
            "2021-10    2250044.33\n",
            "2021-11    3402887.04\n",
            "2021-12    5356230.07\n",
            "2022-01    5950189.56\n",
            "2022-02    3297459.21\n",
            "2022-03    3644889.98\n",
            "2022-04    2290372.25\n",
            "2022-05    6041605.19\n",
            "2022-06    6414861.64\n",
            "2022-07    5917289.46\n",
            "2022-08    4543919.10\n",
            "2022-09    7795088.35\n",
            "2022-10    3312374.25\n",
            "2022-11    7614927.95\n",
            "2022-12    3415460.97\n",
            "Name: Total, dtype: float64\n"
          ]
        }
      ]
    },
    {
      "cell_type": "code",
      "source": [
        "#  Plot the monthly revenue\n",
        "import matplotlib.pyplot as plt\n",
        "import seaborn as sns\n",
        "plt.figure(figsize=(12, 6))\n",
        "monthly_revenue.plot(kind='bar')\n",
        "plt.xlabel(\"Monthly\")\n",
        "plt.ylabel(\"Revenue\")\n",
        "plt.title(\"Monthly_Revenue\")\n",
        "plt.xticks(rotation=45)\n",
        "plt.show()"
      ],
      "metadata": {
        "colab": {
          "base_uri": "https://localhost:8080/",
          "height": 601
        },
        "id": "04uy8Sgg3Zlc",
        "outputId": "a96d7984-ee4f-4ea3-f001-1f0866d95493"
      },
      "execution_count": null,
      "outputs": [
        {
          "output_type": "display_data",
          "data": {
            "text/plain": [
              "<Figure size 1200x600 with 1 Axes>"
            ],
            "image/png": "[encoded data removed]"
          },
          "metadata": {}
        }
      ]
    },
    {
      "cell_type": "code",
      "source": [
        "# **7. Customer Insights:**\n",
        "# Identify the top 5 customers who have spent the most. Display their names and total spending.\n",
        "# Identify the top 5 customers who have spent the most\n",
        "df_ecommerce_data.groupby('Customer_ID')['Total'].sum().sort_values(ascending=False).head(5)"
      ],
      "metadata": {
        "colab": {
          "base_uri": "https://localhost:8080/"
        },
        "id": "JMk8Eb3J4ZOW",
        "outputId": "1e336e3c-4450-435c-dcc8-ad676d80522b"
      },
      "execution_count": null,
      "outputs": [
        {
          "output_type": "execute_result",
          "data": {
            "text/plain": [
              "Customer_ID\n",
              "8.0     5690876.66\n",
              "30.0    5333686.85\n",
              "28.0    5080991.83\n",
              "27.0    4809322.46\n",
              "45.0    4721177.26\n",
              "Name: Total, dtype: float64"
            ]
          },
          "metadata": {},
          "execution_count": 54
        }
      ]
    },
    {
      "cell_type": "code",
      "source": [
        "# **8. Price Distribution:**\n",
        "# Show the distribution of product prices between different ranges.\n",
        "df_ecommerce_data['Price'].hist(bins=10)"
      ],
      "metadata": {
        "colab": {
          "base_uri": "https://localhost:8080/",
          "height": 448
        },
        "id": "L6XUVxCP53eF",
        "outputId": "d0f88c05-e9da-4112-8d90-bec36b1f9e24"
      },
      "execution_count": null,
      "outputs": [
        {
          "output_type": "execute_result",
          "data": {
            "text/plain": [
              "<Axes: >"
            ]
          },
          "metadata": {},
          "execution_count": 61
        },
        {
          "output_type": "display_data",
          "data": {
            "text/plain": [
              "<Figure size 640x480 with 1 Axes>"
            ],
            "image/png": "[encoded data removed]"
          },
          "metadata": {}
        }
      ]
    },
    {
      "cell_type": "code",
      "source": [
        "#  Show the distribution of product prices between different ranges (e.g., using histograms)\n",
        "plt.figure(figsize=(10, 6))\n",
        "sns.histplot(df_ecommerce_data['Price'], bins=20)\n",
        "plt.xlabel(\"Price\")\n",
        "plt.ylabel(\"Frequency\")\n",
        "plt.title(\"Price Distribution\")\n",
        "plt.show()\n"
      ],
      "metadata": {
        "colab": {
          "base_uri": "https://localhost:8080/",
          "height": 564
        },
        "id": "uAPNCchy5KKu",
        "outputId": "1370aea6-b01d-4191-d002-dea842b196ae"
      },
      "execution_count": null,
      "outputs": [
        {
          "output_type": "display_data",
          "data": {
            "text/plain": [
              "<Figure size 1000x600 with 1 Axes>"
            ],
            "image/png": "[encoded data removed]"
          },
          "metadata": {}
        }
      ]
    },
    {
      "cell_type": "code",
      "source": [
        "# **10. Time-based Analysis:**\n",
        "# Explore how sales have evolved over time. Average sales yearly, and quaterly\n",
        "df_ecommerce_data['Year']=df_ecommerce_data['Order_Date'].dt.year\n",
        "df_ecommerce_data['Quarter']=df_ecommerce_data['Order_Date'].dt.quarter\n",
        "\n"
      ],
      "metadata": {
        "id": "WHls-P7e5f2u"
      },
      "execution_count": null,
      "outputs": []
    },
    {
      "cell_type": "code",
      "source": [
        "# Average sales yearly\n",
        "yearly_sales = df_ecommerce_data.groupby('Year')['Total'].mean()"
      ],
      "metadata": {
        "id": "N3-2aPGk7waZ"
      },
      "execution_count": null,
      "outputs": []
    },
    {
      "cell_type": "code",
      "source": [
        "# Average sales quarterly\n",
        "quarterly_sales = df_ecommerce_data.groupby(['Year', 'Quarter'])['Total'].mean()"
      ],
      "metadata": {
        "id": "zIJtg1gP9QVu"
      },
      "execution_count": null,
      "outputs": []
    },
    {
      "cell_type": "code",
      "source": [
        "# Display average sales yearly\n",
        "print(\"Average Sales Yearly:\")\n",
        "print(yearly_sales)\n"
      ],
      "metadata": {
        "colab": {
          "base_uri": "https://localhost:8080/"
        },
        "id": "p2FK89WC9fxL",
        "outputId": "a7f599a8-e108-4000-d8bc-dbbfa6004289"
      },
      "execution_count": null,
      "outputs": [
        {
          "output_type": "stream",
          "name": "stdout",
          "text": [
            "Average Sales Yearly:\n",
            "Year\n",
            "2020    256511.123050\n",
            "2021    220229.324299\n",
            "2022    264203.675044\n",
            "Name: Total, dtype: float64\n"
          ]
        }
      ]
    },
    {
      "cell_type": "code",
      "source": [
        "# Display average sales quarterly\n",
        "print(\"\\nAverage Sales Quarterly:\")\n",
        "print(quarterly_sales)"
      ],
      "metadata": {
        "colab": {
          "base_uri": "https://localhost:8080/"
        },
        "id": "OKAPe7N09xI-",
        "outputId": "a07baf8a-c399-49cc-b607-224bf82ba199"
      },
      "execution_count": null,
      "outputs": [
        {
          "output_type": "stream",
          "name": "stdout",
          "text": [
            "\n",
            "Average Sales Quarterly:\n",
            "Year  Quarter\n",
            "2020  1          279669.977551\n",
            "      2          230212.209362\n",
            "      3          251821.062308\n",
            "      4          263148.589038\n",
            "2021  1          245208.722642\n",
            "      2          229679.334746\n",
            "      3          212728.242444\n",
            "      4          193143.183158\n",
            "2022  1          222285.150862\n",
            "      2          249946.425085\n",
            "      3          326005.301964\n",
            "      4          260777.512182\n",
            "Name: Total, dtype: float64\n"
          ]
        }
      ]
    },
    {
      "cell_type": "code",
      "source": [],
      "metadata": {
        "id": "coQH3rcy9yRX"
      },
      "execution_count": null,
      "outputs": []
    }
  ]
}